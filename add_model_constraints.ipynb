{
 "cells": [
  {
   "cell_type": "code",
   "execution_count": 1,
   "metadata": {},
   "outputs": [],
   "source": [
    "using JuMP\n",
    "using ConditionalJuMP\n",
    "using MIPVerify\n",
    "using MathProgBase\n",
    "using LinearAlgebra\n",
    "\n",
    "# You can use your solver of choice; I'm using Gurobi for my testing.\n",
    "using Gurobi"
   ]
  },
  {
   "cell_type": "markdown",
   "metadata": {},
   "source": [
    "# Setup\n",
    "The `OptimizationProblem` struct and `get_optimization_problem` function are all you need to get started."
   ]
  },
  {
   "cell_type": "code",
   "execution_count": 2,
   "metadata": {},
   "outputs": [],
   "source": [
    "struct OptimizationProblem{T<:Union{JuMP.Variable,JuMP.AffExpr}}\n",
    "    model::Model\n",
    "    input_variable::Array{Variable}\n",
    "    output_variable::Array{<:T}\n",
    "end"
   ]
  },
  {
   "cell_type": "code",
   "execution_count": 3,
   "metadata": {},
   "outputs": [
    {
     "data": {
      "text/plain": [
       "get_optimization_problem"
      ]
     },
     "execution_count": 3,
     "metadata": {},
     "output_type": "execute_result"
    }
   ],
   "source": [
    "\"\"\"\n",
    ":param input_size: size of input to neural network\n",
    ":param lower_bounds: element-wise lower bounds to input\n",
    ":param upper_bounds: element-wise upper bounds to input\n",
    ":param set_additional_input_constraints: Function that accepts the \n",
    "    input variable (in the form of Array{<:Union{JuMP.Variable,JuMP.AffExpr}}) \n",
    "    and sets any additional constraints. Example function `f` that sets the\n",
    "    first element of the input to \n",
    "\n",
    "```\n",
    "function f(v_in)\n",
    "    m = MIPVerify.getmodel(v_in)\n",
    "    @constraint(m, v_in[1] <= 1)\n",
    "end\n",
    "```\n",
    "\n",
    ":returns: Optimization problem with model, input variables, and output variables.\n",
    "    Please set all constraints on input variables via `set_additional_input_constraints`\n",
    "    so that the information is available when propagating bounds forward through\n",
    "    the network.\n",
    "\n",
    "\"\"\"\n",
    "function get_optimization_problem(\n",
    "    input_size::Tuple{Int}, \n",
    "    nn::NeuralNet, \n",
    "    solver::MathProgBase.SolverInterface.AbstractMathProgSolver;\n",
    "    lower_bounds::AbstractArray{<:Real} = zeros(input_size), \n",
    "    upper_bounds::AbstractArray{<:Real} = ones(input_size),\n",
    "    set_additional_input_constraints::Function = _ -> nothing\n",
    ")::OptimizationProblem\n",
    "    @assert(\n",
    "        size(lower_bounds) == input_size,\n",
    "        \"Lower bounds must match input size $input_size\"\n",
    "    )\n",
    "    @assert(\n",
    "        size(upper_bounds) == input_size,\n",
    "        \"Upper bounds must match input size $input_size\"\n",
    "    )\n",
    "    @assert(\n",
    "        all(lower_bounds .<= upper_bounds),\n",
    "        \"Upper bounds must be element-wise at least the value of the lower bounds\"\n",
    "    )    \n",
    "    \n",
    "    m = Model()\n",
    "    JuMP.setsolver(m, solver)\n",
    "    input_range = CartesianIndices(input_size)\n",
    "\n",
    "    # v_in is the variable representing the actual range of input values\n",
    "    v_in = map(\n",
    "        i -> @variable(m, lowerbound = lower_bounds[i], upperbound = upper_bounds[i]), \n",
    "        CartesianIndices(input_size)\n",
    "    )\n",
    "    \n",
    "    # these input constraints need to be set before we feed the bounds\n",
    "    # forward through the network via the call nn(v_in)\n",
    "    set_additional_input_constraints(v_in)\n",
    "\n",
    "    return OptimizationProblem(m, v_in, nn(v_in))\n",
    "end\n"
   ]
  },
  {
   "cell_type": "markdown",
   "metadata": {},
   "source": [
    "# Example 1: Identity Network with Simple Element-wise Bounds\n",
    "\n",
    "In the example below, the input and output variables are identical, and the only constraints are the element-wise constraints on the input variables."
   ]
  },
  {
   "cell_type": "code",
   "execution_count": 4,
   "metadata": {},
   "outputs": [
    {
     "data": {
      "text/plain": [
       "sequential net identity\n",
       "  (1) Linear(4 -> 4)\n"
      ]
     },
     "execution_count": 4,
     "metadata": {},
     "output_type": "execute_result"
    }
   ],
   "source": [
    "# single layer identity network \n",
    "nn_id = Sequential([Linear(Matrix(1.0I, 4, 4), zeros(4,))], \"identity\")"
   ]
  },
  {
   "cell_type": "code",
   "execution_count": 5,
   "metadata": {},
   "outputs": [
    {
     "data": {
      "text/plain": [
       "OptimizationProblem{JuMP.GenericAffExpr{Float64,Variable}}(Feasibility problem with:\n",
       " * 0 linear constraints\n",
       " * 4 variables\n",
       "Solver is Gurobi, Variable[__anon__, __anon__, __anon__, __anon__], JuMP.GenericAffExpr{Float64,Variable}[__anon__, __anon__, __anon__, __anon__])"
      ]
     },
     "execution_count": 5,
     "metadata": {},
     "output_type": "execute_result"
    }
   ],
   "source": [
    "p1 = get_optimization_problem(\n",
    "    (4,), \n",
    "    nn_id, \n",
    "    GurobiSolver(),\n",
    "    lower_bounds=[1, 2, 3, 4],\n",
    "    upper_bounds=[5, 6, 7, 8],\n",
    ")"
   ]
  },
  {
   "cell_type": "markdown",
   "metadata": {},
   "source": [
    "When we minimize the sum of the output variables, the objective is 10, with the input variables taking the value of the lower bound."
   ]
  },
  {
   "cell_type": "code",
   "execution_count": 17,
   "metadata": {},
   "outputs": [
    {
     "name": "stdout",
     "output_type": "stream",
     "text": [
      "Gurobi Optimizer version 9.0.2 build v9.0.2rc0 (linux64)\n",
      "Optimize a model with 0 rows, 4 columns and 0 nonzeros\n",
      "Coefficient statistics:\n",
      "  Matrix range     [0e+00, 0e+00]\n",
      "  Objective range  [1e+00, 1e+00]\n",
      "  Bounds range     [1e+00, 8e+00]\n",
      "  RHS range        [0e+00, 0e+00]\n",
      "Iteration    Objective       Primal Inf.    Dual Inf.      Time\n",
      "       0    1.0000000e+01   0.000000e+00   0.000000e+00      0s\n",
      "\n",
      "Solved in 0 iterations and 0.00 seconds\n",
      "Optimal objective  1.000000000e+01\n",
      "\n",
      "Objective value: 10.0, input variables: [1.0, 2.0, 3.0, 4.0]\n"
     ]
    }
   ],
   "source": [
    "@objective(p1.model, Min, sum(p1.output_variable))\n",
    "solve(p1.model)\n",
    "println(\"\\nObjective value: $(getobjectivevalue(p1.model)), input variables: $(getvalue(p1.input_variable))\")"
   ]
  },
  {
   "cell_type": "markdown",
   "metadata": {},
   "source": [
    "When we maximize the sum of the output variables, the objective is 26, with the input variables taking the value of the upper bound."
   ]
  },
  {
   "cell_type": "code",
   "execution_count": 18,
   "metadata": {},
   "outputs": [
    {
     "name": "stdout",
     "output_type": "stream",
     "text": [
      "Gurobi Optimizer version 9.0.2 build v9.0.2rc0 (linux64)\n",
      "Optimize a model with 0 rows, 4 columns and 0 nonzeros\n",
      "Coefficient statistics:\n",
      "  Matrix range     [0e+00, 0e+00]\n",
      "  Objective range  [1e+00, 1e+00]\n",
      "  Bounds range     [1e+00, 8e+00]\n",
      "  RHS range        [0e+00, 0e+00]\n",
      "Iteration    Objective       Primal Inf.    Dual Inf.      Time\n",
      "       0    2.6000000e+01   0.000000e+00   0.000000e+00      0s\n",
      "\n",
      "Solved in 0 iterations and 0.00 seconds\n",
      "Optimal objective  2.600000000e+01\n",
      "\n",
      "Objective value: 26.0, input variables: [5.0, 6.0, 7.0, 8.0]\n"
     ]
    }
   ],
   "source": [
    "@objective(p1.model, Max, sum(p1.output_variable))\n",
    "solve(p1.model)\n",
    "println(\"\\nObjective value: $(getobjectivevalue(p1.model)), input variables: $(getvalue(p1.input_variable))\")"
   ]
  },
  {
   "cell_type": "markdown",
   "metadata": {},
   "source": [
    "Here's a slightly more complex linear objective"
   ]
  },
  {
   "cell_type": "code",
   "execution_count": 23,
   "metadata": {},
   "outputs": [
    {
     "name": "stdout",
     "output_type": "stream",
     "text": [
      "Gurobi Optimizer version 9.0.2 build v9.0.2rc0 (linux64)\n",
      "Optimize a model with 0 rows, 4 columns and 0 nonzeros\n",
      "Coefficient statistics:\n",
      "  Matrix range     [0e+00, 0e+00]\n",
      "  Objective range  [1e+00, 1e+00]\n",
      "  Bounds range     [1e+00, 8e+00]\n",
      "  RHS range        [0e+00, 0e+00]\n",
      "Iteration    Objective       Primal Inf.    Dual Inf.      Time\n",
      "       0    6.0000000e+00   0.000000e+00   0.000000e+00      0s\n",
      "\n",
      "Solved in 0 iterations and 0.00 seconds\n",
      "Optimal objective  6.000000000e+00\n",
      "\n",
      "Objective value: 6.0, input variables: [5.0, 2.0, 7.0, 4.0]\n"
     ]
    }
   ],
   "source": [
    "o = p1.output_variable\n",
    "@objective(p1.model, Max, o[1]-o[2]+o[3]-o[4])\n",
    "solve(p1.model)\n",
    "println(\"\\nObjective value: $(getobjectivevalue(p1.model)), input variables: $(getvalue(p1.input_variable))\")"
   ]
  },
  {
   "cell_type": "markdown",
   "metadata": {},
   "source": [
    "# Example 2: Simple One-Layer Network with Slightly More Complex Constraints"
   ]
  },
  {
   "cell_type": "code",
   "execution_count": 30,
   "metadata": {},
   "outputs": [
    {
     "data": {
      "text/plain": [
       "sequential net test\n",
       "  (1) Linear(4 -> 3)\n",
       "  (2) ReLU()\n"
      ]
     },
     "execution_count": 30,
     "metadata": {},
     "output_type": "execute_result"
    }
   ],
   "source": [
    "# the convention for the `Linear` layer is a bit confusing\n",
    "# I'm planning to change it, but you can refer to the docs for now\n",
    "matrix = [\n",
    "    1 1 1\n",
    "    1 1 1\n",
    "    1 1 1\n",
    "    1 1 1\n",
    "]\n",
    "\n",
    "bias = [0, -2, -4]\n",
    "\n",
    "nn_simple = Sequential([\n",
    "    Linear(matrix, bias),\n",
    "    ReLU(lp)\n",
    "], \"test\")"
   ]
  },
  {
   "cell_type": "code",
   "execution_count": 31,
   "metadata": {},
   "outputs": [
    {
     "data": {
      "text/plain": [
       "set_constraints (generic function with 1 method)"
      ]
     },
     "execution_count": 31,
     "metadata": {},
     "output_type": "execute_result"
    }
   ],
   "source": [
    "function set_constraints(v_in)\n",
    "    m = MIPVerify.getmodel(v_in)\n",
    "    @constraint(m, v_in[1]-v_in[2]<=0.2)\n",
    "    @constraint(m, v_in[1]-v_in[2]>=-0.2)\n",
    "end"
   ]
  },
  {
   "cell_type": "markdown",
   "metadata": {},
   "source": [
    "The output you see below are the sub-problems that are being solved as we determine the lower and upper bounds for each input to the ReLU. The type of problem we solve is controlled [here](https://github.com/vtjeng/MIPVerify.jl/blob/b6a585dab860b64e15717d5c9219b705b62fea0c/src/MIPVerify.jl#L18) and can be set on a per-layer basis; the [default is to use `mip`](https://github.com/vtjeng/MIPVerify.jl/blob/master/src/MIPVerify.jl#L20)"
   ]
  },
  {
   "cell_type": "code",
   "execution_count": 32,
   "metadata": {},
   "outputs": [
    {
     "name": "stdout",
     "output_type": "stream",
     "text": [
      "Academic license - for non-commercial use only\n",
      "Gurobi Optimizer version 9.0.2 build v9.0.2rc0 (linux64)\n",
      "Optimize a model with 2 rows, 4 columns and 4 nonzeros\n",
      "Model fingerprint: 0xf475c4a2\n",
      "Coefficient statistics:\n",
      "  Matrix range     [1e+00, 1e+00]\n",
      "  Objective range  [1e+00, 1e+00]\n",
      "  Bounds range     [1e+00, 1e+00]\n",
      "  RHS range        [2e-01, 2e-01]\n",
      "Presolve removed 1 rows and 2 columns\n",
      "Presolve time: 0.00s\n",
      "Presolved: 1 rows, 3 columns, 3 nonzeros\n",
      "\n",
      "Iteration    Objective       Primal Inf.    Dual Inf.      Time\n",
      "       0    4.0000000e+00   0.000000e+00   0.000000e+00      0s\n",
      "       0    4.0000000e+00   0.000000e+00   0.000000e+00      0s\n",
      "\n",
      "Solved in 0 iterations and 0.00 seconds\n",
      "Optimal objective  4.000000000e+00\n",
      "Gurobi Optimizer version 9.0.2 build v9.0.2rc0 (linux64)\n",
      "Optimize a model with 2 rows, 4 columns and 4 nonzeros\n",
      "Coefficient statistics:\n",
      "  Matrix range     [1e+00, 1e+00]\n",
      "  Objective range  [1e+00, 1e+00]\n",
      "  Bounds range     [1e+00, 1e+00]\n",
      "  RHS range        [2e-01, 2e-01]\n",
      "Iteration    Objective       Primal Inf.    Dual Inf.      Time\n",
      "       0    4.0000000e+00   0.000000e+00   0.000000e+00      0s\n",
      "\n",
      "Solved in 0 iterations and 0.00 seconds\n",
      "Optimal objective  4.000000000e+00\n",
      "Gurobi Optimizer version 9.0.2 build v9.0.2rc0 (linux64)\n",
      "Optimize a model with 2 rows, 4 columns and 4 nonzeros\n",
      "Coefficient statistics:\n",
      "  Matrix range     [1e+00, 1e+00]\n",
      "  Objective range  [1e+00, 1e+00]\n",
      "  Bounds range     [1e+00, 1e+00]\n",
      "  RHS range        [2e-01, 2e-01]\n",
      "Iteration    Objective       Primal Inf.    Dual Inf.      Time\n",
      "       0    0.0000000e+00   0.000000e+00   0.000000e+00      0s\n",
      "\n",
      "Solved in 0 iterations and 0.00 seconds\n",
      "Optimal objective  0.000000000e+00\n"
     ]
    },
    {
     "data": {
      "text/plain": [
       "OptimizationProblem{JuMP.GenericAffExpr{Float64,Variable}}(Minimization problem with:\n",
       " * 6 linear constraints\n",
       " * 6 variables: 1 binary\n",
       "Solver is Gurobi, Variable[__anon__, __anon__, __anon__, __anon__], JuMP.GenericAffExpr{Float64,Variable}[__anon__ + __anon__ + __anon__ + __anon__, __anon__, 0])"
      ]
     },
     "execution_count": 32,
     "metadata": {},
     "output_type": "execute_result"
    }
   ],
   "source": [
    "p2 = get_optimization_problem(\n",
    "    (4,), \n",
    "    nn_simple, \n",
    "    GurobiSolver(),\n",
    "    set_additional_input_constraints = set_constraints,\n",
    ")"
   ]
  },
  {
   "cell_type": "code",
   "execution_count": 27,
   "metadata": {},
   "outputs": [
    {
     "name": "stdout",
     "output_type": "stream",
     "text": [
      "Gurobi Optimizer version 9.0.2 build v9.0.2rc0 (linux64)\n",
      "Optimize a model with 6 rows, 6 columns and 18 nonzeros\n",
      "Model fingerprint: 0x396fcddd\n",
      "Variable types: 5 continuous, 1 integer (1 binary)\n",
      "Coefficient statistics:\n",
      "  Matrix range     [1e+00, 2e+00]\n",
      "  Objective range  [1e+00, 1e+00]\n",
      "  Bounds range     [1e+00, 2e+00]\n",
      "  RHS range        [2e-01, 2e+00]\n",
      "\n",
      "User MIP start produced solution with objective -0 (0.00s)\n",
      "Loaded user MIP start with objective -0\n",
      "\n",
      "Presolve removed 6 rows and 6 columns\n",
      "Presolve time: 0.00s\n",
      "Presolve: All rows and columns removed\n",
      "\n",
      "Explored 0 nodes (0 simplex iterations) in 0.00 seconds\n",
      "Thread count was 1 (of 4 available processors)\n",
      "\n",
      "Solution count 2: 2 \n",
      "\n",
      "Optimal solution found (tolerance 1.00e-04)\n",
      "Best objective 2.000000000000e+00, best bound 2.000000000000e+00, gap 0.0000%\n",
      "2.0\n",
      "\n",
      "Objective value: 2.0, input variables: [0.5999999999999994, 0.39999999999999947, 1.0, 1.1102230246251565e-15]\n"
     ]
    }
   ],
   "source": [
    "o = p2.output_variable\n",
    "@objective(p2.model, Max, o[1]-o[2])\n",
    "solve(p2.model)\n",
    "println(getobjectivevalue(p2.model))\n",
    "println(\"\\nObjective value: $(getobjectivevalue(p2.model)), input variables: $(getvalue(p2.input_variable))\")"
   ]
  },
  {
   "cell_type": "code",
   "execution_count": null,
   "metadata": {},
   "outputs": [],
   "source": []
  }
 ],
 "metadata": {
  "kernelspec": {
   "display_name": "Julia 1.2.0",
   "language": "julia",
   "name": "julia-1.2"
  },
  "language_info": {
   "file_extension": ".jl",
   "mimetype": "application/julia",
   "name": "julia",
   "version": "1.2.0"
  }
 },
 "nbformat": 4,
 "nbformat_minor": 2
}
